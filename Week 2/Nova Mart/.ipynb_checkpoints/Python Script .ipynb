{
 "cells": [
  {
   "cell_type": "code",
   "execution_count": 7,
   "id": "f9f7ec81",
   "metadata": {},
   "outputs": [],
   "source": [
    "import pandas as pd\n",
    "import os\n",
    "\n",
    "# Identifying the files to merge\n",
    "path = r\"C:\\\\Users\\\\Padma\\\\Downloads\\\\Week 1\\\\Python Automation Task\\\\Input For Participants\"\n",
    "files = os.listdir(path)\n",
    "files_csv = [f for f in files if f.endswith('.csv')]\n",
    "\n",
    "# Reading the excel files and concatenate them\n",
    "mydf_list = [pd.read_csv(os.path.join(path, f)) for f in files_csv]\n",
    "mydf = pd.concat(mydf_list)\n",
    "\n",
    "# Writing the merged dataframe to a new excel file\n",
    "myoutput_path = \"C:\\\\Users\\\\Padma\\\\Downloads\\\\Week 1\\\\Python Automation Task\\\\myoutput_file.csv\"\n",
    "mydf.to_csv(myoutput_path, index=False)\n"
   ]
  },
  {
   "cell_type": "code",
   "execution_count": null,
   "id": "88f9017f",
   "metadata": {},
   "outputs": [],
   "source": []
  }
 ],
 "metadata": {
  "kernelspec": {
   "display_name": "Python 3 (ipykernel)",
   "language": "python",
   "name": "python3"
  },
  "language_info": {
   "codemirror_mode": {
    "name": "ipython",
    "version": 3
   },
   "file_extension": ".py",
   "mimetype": "text/x-python",
   "name": "python",
   "nbconvert_exporter": "python",
   "pygments_lexer": "ipython3",
   "version": "3.11.5"
  }
 },
 "nbformat": 4,
 "nbformat_minor": 5
}
